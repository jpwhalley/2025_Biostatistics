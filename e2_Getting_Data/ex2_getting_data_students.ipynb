{
 "cells": [
  {
   "cell_type": "markdown",
   "metadata": {},
   "source": [
    "# SGPS BioStatistics\n",
    "## Excercise 2: Getting publically availible data\n",
    "\n",
    "#### Gene Expression data from Gene Expression Omnibus\n",
    "+ https://www.ncbi.nlm.nih.gov/geo/query/acc.cgi?acc=GSE123336\n",
    "\n",
    "#### Specifically from this paper\n",
    "1.\tLaRocca D, Barns S, Hicks SD, Brindle A et al. Comparison of serum and saliva miRNAs for identification and characterization of mTBI in adult mixed martial arts fighters. *PLoS One* 2019;14(1):e0207785.\n"
   ]
  },
  {
   "cell_type": "code",
   "execution_count": null,
   "metadata": {},
   "outputs": [],
   "source": [
    "# Import the packages we need\n",
    "import pandas as pd\n",
    "import numpy as np\n",
    "# import GEOparse"
   ]
  },
  {
   "cell_type": "code",
   "execution_count": null,
   "metadata": {},
   "outputs": [],
   "source": [
    "# Get the data in\n",
    "human_expression = pd.read_csv('GSE123336_MMA_CountMatrix.csv.gz', index_col=0, compression='gzip')\n",
    "human_expression = human_expression.apply(pd.to_numeric, errors='coerce')"
   ]
  },
  {
   "cell_type": "code",
   "execution_count": null,
   "metadata": {},
   "outputs": [],
   "source": [
    "# Get the data straight (off the omnibus)\n",
    "# gse = GEOparse.get_GEO(geo=\"GSE123336\", destdir=\".\")"
   ]
  },
  {
   "cell_type": "code",
   "execution_count": null,
   "metadata": {},
   "outputs": [],
   "source": [
    "# gse.gsms"
   ]
  },
  {
   "cell_type": "code",
   "execution_count": null,
   "metadata": {},
   "outputs": [],
   "source": [
    "# gse.gsms['GSM3500956'].metadata"
   ]
  },
  {
   "cell_type": "code",
   "execution_count": null,
   "metadata": {},
   "outputs": [],
   "source": [
    "# # And collect the metadata\n",
    "# meta = {}\n",
    "# for key in gse.gsms:\n",
    "#     # print(key)\n",
    "#     samp = gse.gsms[key].metadata['description'][0]\n",
    "#     characteristics = {}\n",
    "#     for item in gse.gsms[key].metadata['characteristics_ch1']:\n",
    "#         temp = item.split(': ')\n",
    "#         characteristics[temp[0]] = temp[1]\n",
    "\n",
    "#     if samp not in meta:\n",
    "#         meta[samp] = {}\n",
    "#         meta[samp] = characteristics\n",
    "#     else:\n",
    "#         meta[samp] = characteristics\n",
    "\n",
    "# metadata = pd.DataFrame(meta).T\n",
    "# metadata.to_csv('GSE123336_metadata.csv')"
   ]
  },
  {
   "cell_type": "code",
   "execution_count": null,
   "metadata": {},
   "outputs": [],
   "source": [
    "metadata = pd.read_csv('GSE123336_metadata.csv', index_col=0)\n",
    "metadata"
   ]
  },
  {
   "cell_type": "code",
   "execution_count": null,
   "metadata": {},
   "outputs": [],
   "source": [
    "# Can we see which miRNA are differentially expressed in Saliva pre and post fight?\n",
    "# Filter for saliva samples only\n",
    "saliva_samples = metadata[(metadata['tissue'] == 'Saliva') & \n",
    "                          (metadata['timepoint'].isin(['0d pre', '0d post']))]\n",
    "\n",
    "# Get the corresponding sample names\n",
    "saliva_sample_names = saliva_samples.index\n",
    "\n",
    "# Subset the expression data\n",
    "saliva_expression = human_expression[saliva_sample_names]\n",
    "saliva_expression\n",
    "\n",
    "pre_fight_samples = saliva_samples[saliva_samples['timepoint'] == '0d pre'].index\n",
    "post_fight_samples = saliva_samples[saliva_samples['timepoint'] == '0d post'].index\n",
    "\n",
    "pre_fight_expression = saliva_expression[pre_fight_samples]\n",
    "post_fight_expression = saliva_expression[post_fight_samples]"
   ]
  },
  {
   "cell_type": "code",
   "execution_count": null,
   "metadata": {},
   "outputs": [],
   "source": [
    "from scipy.stats import mannwhitneyu\n",
    "\n",
    "# Initialize a list to store results\n",
    "diff_expression_results = []\n",
    "\n",
    "# Iterate through each miRNA\n",
    "for miRNA in saliva_expression.index:\n",
    "    # Extract expression levels for this miRNA\n",
    "    pre_values = pre_fight_expression.loc[miRNA]\n",
    "    post_values = post_fight_expression.loc[miRNA]\n",
    "    \n",
    "    # Perform the Mann-Whitney U test\n",
    "    stat, p_value = mannwhitneyu(pre_values, post_values, alternative='two-sided')\n",
    "    \n",
    "    # Store the results\n",
    "    diff_expression_results.append({\n",
    "        'miRNA': miRNA,\n",
    "        'statistic': stat,\n",
    "        'p_value': p_value\n",
    "    })\n",
    "\n",
    "# Convert the results to a DataFrame\n",
    "diff_expression_df = pd.DataFrame(diff_expression_results)\n",
    "\n",
    "# Apply multiple testing correction (e.g., Benjamini-Hochberg)\n",
    "from statsmodels.stats.multitest import multipletests\n",
    "\n",
    "diff_expression_df['Significant'], diff_expression_df['adjusted_p_value'], _, _ = multipletests(diff_expression_df['p_value'], method='fdr_bh')\n",
    "\n",
    "# Sort the results by adjusted p-value\n",
    "diff_expression_df = diff_expression_df.sort_values('p_value')\n",
    "diff_expression_df"
   ]
  },
  {
   "cell_type": "code",
   "execution_count": null,
   "metadata": {},
   "outputs": [],
   "source": [
    "# Can we see which miRNA are differentially expressed in Serum pre and post fight?\n",
    "# Filter for serum samples only\n"
   ]
  },
  {
   "cell_type": "code",
   "execution_count": null,
   "metadata": {},
   "outputs": [],
   "source": []
  },
  {
   "cell_type": "markdown",
   "metadata": {},
   "source": [
    "### How about getting rat data for mTBI?\n",
    "#### Gene Expression data from Gene Expression Omnibus\n",
    "+ https://www.ncbi.nlm.nih.gov/geo/query/acc.cgi?acc=GSE159011\n",
    "\n",
    "#### Specifically from this paper\n",
    "1.\tDas Gupta S, Ciszek R, Heiskanen M, Lapinlampi N et al. Plasma miR-9-3p and miR-136-3p as Potential Novel Diagnostic Biomarkers for Experimental and Human Mild Traumatic Brain Injury. *Int J Mol Sci* 2021 Feb 4;22(4).\n"
   ]
  },
  {
   "cell_type": "code",
   "execution_count": null,
   "metadata": {},
   "outputs": [],
   "source": [
    "rat_expression = pd.read_csv(\"GSE159011_Raw_counts_matrix.txt\", index_col=0, sep='\\t')"
   ]
  },
  {
   "cell_type": "code",
   "execution_count": null,
   "metadata": {},
   "outputs": [],
   "source": [
    "rat_expression"
   ]
  },
  {
   "cell_type": "code",
   "execution_count": null,
   "metadata": {},
   "outputs": [],
   "source": [
    "rat_expression.sum()"
   ]
  },
  {
   "cell_type": "code",
   "execution_count": null,
   "metadata": {},
   "outputs": [],
   "source": [
    "# Normalization\n",
    "# Step 1: Calculate the sum of each column\n",
    "column_sums = rat_expression.sum()\n",
    "\n",
    "# Step 2: Determine the normalization factor to scale each column to sum to 1 million\n",
    "normalization_factor = 1_000_000 / column_sums\n",
    "\n",
    "# Step 3: Multiply each column by its respective normalization factor\n",
    "normalized_df = rat_expression.multiply(normalization_factor, axis=1)\n",
    "\n",
    "# Now each column in `normalized_df` should sum to 1 million\n",
    "normalized_df"
   ]
  },
  {
   "cell_type": "code",
   "execution_count": null,
   "metadata": {},
   "outputs": [],
   "source": [
    "# We also want to do put this on a log2 scale\n",
    "log2_df = np.log2(normalized_df + 1)\n",
    "log2_df"
   ]
  },
  {
   "cell_type": "code",
   "execution_count": null,
   "metadata": {},
   "outputs": [],
   "source": [
    "# Get the data straight (off the omnibus)\n",
    "# gse = GEOparse.get_GEO(geo=\"GSE159011\", destdir=\".\")"
   ]
  },
  {
   "cell_type": "code",
   "execution_count": null,
   "metadata": {},
   "outputs": [],
   "source": [
    "# # And collect the metadata\n",
    "# meta = {}\n",
    "# for key in gse.gsms:\n",
    "#     # print(key)\n",
    "#     samp = gse.gsms[key].metadata['description'][0]\n",
    "#     characteristics = {}\n",
    "#     for item in gse.gsms[key].metadata['characteristics_ch1']:\n",
    "#         temp = item.split(': ')\n",
    "#         characteristics[temp[0]] = temp[1]\n",
    "\n",
    "#     if samp not in meta:\n",
    "#         meta[samp] = {}\n",
    "#         meta[samp] = characteristics\n",
    "#     else:\n",
    "#         meta[samp] = characteristics\n",
    "\n",
    "# rat_metadata = pd.DataFrame(meta).T\n",
    "# rat_metadata.to_csv('GSE159011_metadata.csv')"
   ]
  },
  {
   "cell_type": "code",
   "execution_count": null,
   "metadata": {},
   "outputs": [],
   "source": [
    "rat_metadata = pd.read_csv('GSE159011_metadata.csv', index_col=0)\n",
    "rat_metadata"
   ]
  },
  {
   "cell_type": "code",
   "execution_count": null,
   "metadata": {},
   "outputs": [],
   "source": [
    "# Filter metadata for Naive and Severe TBI groups\n",
    "log2_df.columns = log2_df.columns.str.replace('-UMIs', '')\n",
    "naive_samples = rat_metadata[rat_metadata['group'] == 'Naive'].index\n",
    "severe_tbi_samples = rat_metadata[rat_metadata['group'] == 'Severe TBI'].index"
   ]
  },
  {
   "cell_type": "code",
   "execution_count": null,
   "metadata": {},
   "outputs": [],
   "source": [
    "# Subset expression data for Naive and Severe TBI samples\n",
    "naive_expression = log2_df[naive_samples]\n",
    "severe_tbi_expression = log2_df[severe_tbi_samples]"
   ]
  },
  {
   "cell_type": "code",
   "execution_count": null,
   "metadata": {},
   "outputs": [],
   "source": [
    "# Initialize a list to store results\n",
    "diff_expression_results = []\n",
    "\n",
    "# Iterate through each miRNA\n",
    "for miRNA in log2_df.index:\n",
    "    # Extract expression levels for this miRNA in Naive and Severe TBI groups\n",
    "    naive_values = naive_expression.loc[miRNA]\n",
    "    severe_tbi_values = severe_tbi_expression.loc[miRNA]\n",
    "    \n",
    "    # Perform the Mann-Whitney U test\n",
    "    stat, p_value = mannwhitneyu(naive_values, severe_tbi_values, alternative='two-sided')\n",
    "    \n",
    "    # Store the results\n",
    "    diff_expression_results.append({\n",
    "        'miRNA': miRNA,\n",
    "        'statistic': stat,\n",
    "        'p_value': p_value\n",
    "    })\n",
    "\n",
    "# Convert the results to a DataFrame\n",
    "diff_expression_df = pd.DataFrame(diff_expression_results)\n",
    "\n",
    "# Drop out NaN from the p-values\n",
    "diff_expression_df = diff_expression_df.dropna(subset=['p_value'])\n",
    "\n",
    "# Apply multiple testing correction (e.g., Benjamini-Hochberg)\n",
    "from statsmodels.stats.multitest import multipletests\n",
    "\n",
    "diff_expression_df['adjusted_p_value'] = multipletests(diff_expression_df['p_value'], method='fdr_bh')[1]\n",
    "\n",
    "# Apply multiple testing correction (e.g., Benjamini-Hochberg)\n",
    "from statsmodels.stats.multitest import multipletests\n",
    "\n",
    "diff_expression_df['Significant'], diff_expression_df['adjusted_p_value'], _, _ = multipletests(diff_expression_df['p_value'], method='fdr_bh')\n",
    "\n",
    "# Sort the results by adjusted p-value\n",
    "diff_expression_df = diff_expression_df.sort_values('p_value')\n",
    "diff_expression_df"
   ]
  },
  {
   "cell_type": "code",
   "execution_count": null,
   "metadata": {},
   "outputs": [],
   "source": []
  }
 ],
 "metadata": {
  "kernelspec": {
   "display_name": "Python 3 (ipykernel)",
   "language": "python",
   "name": "python3"
  },
  "language_info": {
   "codemirror_mode": {
    "name": "ipython",
    "version": 3
   },
   "file_extension": ".py",
   "mimetype": "text/x-python",
   "name": "python",
   "nbconvert_exporter": "python",
   "pygments_lexer": "ipython3",
   "version": "3.10.8"
  }
 },
 "nbformat": 4,
 "nbformat_minor": 4
}
